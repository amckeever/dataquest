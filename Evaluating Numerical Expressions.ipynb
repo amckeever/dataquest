{
 "cells": [
  {
   "cell_type": "code",
   "execution_count": 2,
   "metadata": {},
   "outputs": [],
   "source": [
    "from linked_list import LinkedList\n",
    "\n",
    "class Stack(LinkedList):\n",
    "    def push(self, data):\n",
    "        self.append(data)\n",
    "    \n",
    "    def peek(self):\n",
    "        return self.tail.data\n",
    "    \n",
    "    def pop(self):\n",
    "        ret = self.tail.data\n",
    "        if self.length == 1:\n",
    "            self.tail = self.head = None\n",
    "        else:\n",
    "            self.tail = self.tail.prev\n",
    "            self.tail.next = None\n",
    "        self.length -= 1\n",
    "        return ret"
   ]
  },
  {
   "cell_type": "code",
   "execution_count": 42,
   "metadata": {},
   "outputs": [],
   "source": [
    "def tokenize(s):\n",
    "    return s.split()"
   ]
  },
  {
   "cell_type": "code",
   "execution_count": 43,
   "metadata": {},
   "outputs": [],
   "source": [
    "def process_minus(stack):\n",
    "    top = stack.pop()\n",
    "    second_to_top = stack.pop()\n",
    "    result = second_to_top - top\n",
    "    stack.push(result)\n",
    "    \n",
    "def process_plus(stack):\n",
    "    top = stack.pop()\n",
    "    second_to_top = stack.pop()\n",
    "    result = second_to_top + top\n",
    "    stack.push(result)\n",
    "    \n",
    "def process_times(stack):\n",
    "    top = stack.pop()\n",
    "    second_to_top = stack.pop()\n",
    "    result = second_to_top * top\n",
    "    stack.push(result)\n",
    "    \n",
    "def process_divide(stack):\n",
    "    top = stack.pop()\n",
    "    second_to_top = stack.pop()\n",
    "    result = second_to_top / top\n",
    "    stack.push(result)\n",
    "    \n",
    "def process_pow(stack):\n",
    "    top = stack.pop()\n",
    "    second_to_top = stack.pop()\n",
    "    result = second_to_top**top\n",
    "    stack.push(result)"
   ]
  },
  {
   "cell_type": "code",
   "execution_count": 46,
   "metadata": {},
   "outputs": [],
   "source": [
    "def evaluate_postfix(expression):\n",
    "    tokens = tokenize(expression)\n",
    "    stack = Stack()\n",
    "    for token in tokens:\n",
    "        if token == \"+\":\n",
    "            process_plus(stack)\n",
    "        elif token == \"-\":\n",
    "            process_minus(stack)\n",
    "        elif token == \"*\":\n",
    "            process_times(stack)\n",
    "        elif token == \"/\":\n",
    "            process_divide(stack)\n",
    "        elif token == \"**\":\n",
    "            process_pow(stack)\n",
    "        else:\n",
    "            stack.push(float(token))\n",
    "    return stack.pop()"
   ]
  },
  {
   "cell_type": "code",
   "execution_count": 47,
   "metadata": {},
   "outputs": [
    {
     "name": "stdout",
     "output_type": "stream",
     "text": [
      "4 6 - = -2.0\n",
      "4 1 2 9 3 / * + 5 - * = 8.0\n",
      "1 2 + 3 - = 0.0\n",
      "1 2 - 3 + = 2.0\n",
      "10 3 5 * 16 4 - / + = 11.25\n",
      "5 3 4 2 - ** * = 45.0\n",
      "12 2 4 + / 21 * = 42.0\n",
      "1 1 + 2 ** = 4.0\n",
      "1 1 2 ** + = 2.0\n"
     ]
    }
   ],
   "source": [
    "expressions = [\n",
    "    \"4 6 -\",\n",
    "    \"4 1 2 9 3 / * + 5 - *\",\n",
    "    \"1 2 + 3 -\",\n",
    "    \"1 2 - 3 +\",\n",
    "    \"10 3 5 * 16 4 - / +\",\n",
    "    \"5 3 4 2 - ** *\",\n",
    "    \"12 2 4 + / 21 *\",\n",
    "    \"1 1 + 2 **\",\n",
    "    \"1 1 2 ** +\"\n",
    "]\n",
    "for e in expressions:\n",
    "    print(\"{} = {}\".format(e, evaluate_postfix(e)))"
   ]
  },
  {
   "cell_type": "code",
   "execution_count": 48,
   "metadata": {},
   "outputs": [],
   "source": [
    "precedence = {\n",
    "    \"+\": 1,\n",
    "    \"-\": 1,\n",
    "    \"*\": 2,\n",
    "    \"/\": 2,\n",
    "    \"**\": 3\n",
    "}"
   ]
  },
  {
   "cell_type": "code",
   "execution_count": 49,
   "metadata": {},
   "outputs": [
    {
     "name": "stdout",
     "output_type": "stream",
     "text": [
      "False\n"
     ]
    }
   ],
   "source": [
    "print(precedence[\"/\"] < precedence[\"-\"])"
   ]
  },
  {
   "cell_type": "code",
   "execution_count": 50,
   "metadata": {},
   "outputs": [],
   "source": [
    "def process_opening_parenthesis(stack):\n",
    "    stack.push(\"(\")\n",
    "\n",
    "def process_closing_parenthesis(stack, postfix):\n",
    "    while stack.peek() != \"(\":\n",
    "        postfix.append(stack.pop())\n",
    "    stack.pop()\n",
    "\n",
    "def process_operator(stack, postfix, operator):\n",
    "    while len(stack) > 0 and stack.peek() in precedence and precedence[stack.peek()] >= precedence[operator]:\n",
    "        postfix.append(stack.pop())\n",
    "    stack.push(operator)\n",
    "\n",
    "def process_number(postfix, number):\n",
    "    postfix.append(number)"
   ]
  },
  {
   "cell_type": "code",
   "execution_count": 58,
   "metadata": {},
   "outputs": [],
   "source": [
    "def infix_to_postfix(expression):\n",
    "    tokens = tokenize(expression)\n",
    "    stack = Stack()\n",
    "    postfix = []\n",
    "    for token in tokens:\n",
    "        if token == \"(\":\n",
    "            process_opening_parenthesis(stack)\n",
    "        elif token == \")\":\n",
    "            process_closing_parenthesis(stack, postfix)\n",
    "        elif token in precedence.keys():\n",
    "            process_operator(stack, postfix, token)\n",
    "        else:\n",
    "            process_number(postfix, token)\n",
    "    \n",
    "    while len(stack) > 0:\n",
    "        postfix.append(stack.pop())\n",
    "    \n",
    "    return \" \".join(postfix)"
   ]
  },
  {
   "cell_type": "code",
   "execution_count": 59,
   "metadata": {},
   "outputs": [],
   "source": [
    "def evaluate(expression):\n",
    "    postfix_expression = infix_to_postfix(expression)\n",
    "    return evaluate_postfix(postfix_expression)"
   ]
  },
  {
   "cell_type": "code",
   "execution_count": 60,
   "metadata": {},
   "outputs": [
    {
     "name": "stdout",
     "output_type": "stream",
     "text": [
      "1 + 1 = 2.0\n",
      "1 * ( 2 - ( 1 + 1 ) ) = 0.0\n",
      "4 * ( 1 + 2 * ( 9 / 3 ) - 5 ) = 8.0\n",
      "10 + 3 * 5 / ( 16 - 4 * 1 ) = 11.25\n",
      "2 * 2 * 2 * 2 * 2 * 2 * 2 * 2 = 256.0\n",
      "2 ** 2 ** 2 ** 2 ** 2 = 65536.0\n",
      "( 1 - 2 ) / ( 3 - 5 ) = 0.5\n",
      "9 / 8 * 8 = 9.0\n",
      "64 / ( 8 * 8 ) = 1.0\n"
     ]
    }
   ],
   "source": [
    "expressions = [\n",
    "    \"1 + 1\",\n",
    "    \"1 * ( 2 - ( 1 + 1 ) )\",\n",
    "    \"4 * ( 1 + 2 * ( 9 / 3 ) - 5 )\",\n",
    "    \"10 + 3 * 5 / ( 16 - 4 * 1 )\",\n",
    "    \"2 * 2 * 2 * 2 * 2 * 2 * 2 * 2\",\n",
    "    \"2 ** 2 ** 2 ** 2 ** 2\",\n",
    "    \"( 1 - 2 ) / ( 3 - 5 )\",\n",
    "    \"9 / 8 * 8\",\n",
    "    \"64 / ( 8 * 8 )\",\n",
    "]\n",
    "\n",
    "for e in expressions:\n",
    "    print(\"{} = {}\".format(e, evaluate(e)))"
   ]
  },
  {
   "cell_type": "code",
   "execution_count": null,
   "metadata": {},
   "outputs": [],
   "source": []
  }
 ],
 "metadata": {
  "kernelspec": {
   "display_name": "Python 3",
   "language": "python",
   "name": "python3"
  },
  "language_info": {
   "codemirror_mode": {
    "name": "ipython",
    "version": 3
   },
   "file_extension": ".py",
   "mimetype": "text/x-python",
   "name": "python",
   "nbconvert_exporter": "python",
   "pygments_lexer": "ipython3",
   "version": "3.8.2"
  }
 },
 "nbformat": 4,
 "nbformat_minor": 1
}
