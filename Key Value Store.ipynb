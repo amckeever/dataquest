{
 "cells": [
  {
   "cell_type": "code",
   "execution_count": 2,
   "metadata": {},
   "outputs": [],
   "source": [
    "from btree import BTree"
   ]
  },
  {
   "cell_type": "code",
   "execution_count": 41,
   "metadata": {},
   "outputs": [],
   "source": [
    "class KVStore(BTree):\n",
    "    def __init__(self):\n",
    "        super().__init__(2)\n",
    "    \n",
    "    def __getitem__(self, key):\n",
    "        return self.get_value(key)\n",
    "    \n",
    "    def __setitem__(self, key, value):\n",
    "        self.add(key, value)\n",
    "        \n",
    "    def __contains__(self, key):\n",
    "        return self.contains(key)\n",
    "    \n",
    "    def _range_query(self, range_start, range_end, current_node, min_key, max_key):\n",
    "        if range_start > max_key or range_end < min_key:\n",
    "            return []\n",
    "        results = []\n",
    "        for i, key in enumerate(current_node.keys):\n",
    "            if range_start <= key and key <= range_end:\n",
    "                results.append(current_node.values[i])\n",
    "        if not current_node.is_leaf():\n",
    "            for i, child in enumerate(current_node.children):\n",
    "                new_min_key = current_node.keys[i - 1] if i > 0 else min_key\n",
    "                new_max_key = current_node.keys[i] if i < len(current_node) else max_key\n",
    "                results += self._range_query(range_start, range_end, child, new_min_key, new_max_key)\n",
    "        return results\n",
    "    \n",
    "    def add(self, key, value):\n",
    "        node = self._find_node(self.root, key)\n",
    "        if node is None:\n",
    "            super().add(key, value)\n",
    "        else:\n",
    "            for i, node_key in enumerate(node.keys):\n",
    "                if key == node_key:\n",
    "                    node.values[i] = value\n",
    "    \n",
    "    def range_query(self, range_start, range_end):\n",
    "        return self._range_query(range_start, range_end, self.root, )"
   ]
  },
  {
   "cell_type": "code",
   "execution_count": 42,
   "metadata": {},
   "outputs": [],
   "source": [
    "kv = KVStore()"
   ]
  },
  {
   "cell_type": "code",
   "execution_count": 43,
   "metadata": {},
   "outputs": [],
   "source": [
    "assert kv.split_threshold == 2, \"The split is not equal to 2.\"\n",
    "kv[1] = 2\n",
    "assert kv[1] == 2, \"Setting item failed to store value.\"\n",
    "kv[1] = 4\n",
    "assert kv[1] == 4, \"Changing item value failed.\""
   ]
  },
  {
   "cell_type": "code",
   "execution_count": 44,
   "metadata": {},
   "outputs": [],
   "source": [
    "assert 1 in kv, \"Contains not working\""
   ]
  },
  {
   "cell_type": "code",
   "execution_count": 52,
   "metadata": {
    "scrolled": true
   },
   "outputs": [],
   "source": [
    "kvs = KVStore()\n",
    "kvs[\"hello\"] = 2\n",
    "kvs[\"hello\"]\n",
    "assert \"hello\" in kvs, \"Contains not working for string entries\""
   ]
  },
  {
   "cell_type": "code",
   "execution_count": 34,
   "metadata": {},
   "outputs": [
    {
     "data": {
      "text/plain": [
       "[('__init__',\n",
       "  <function btree.Node.__init__(self, keys=None, values=None, children=None, parent=None)>),\n",
       " ('__len__', <function btree.Node.__len__(self)>),\n",
       " ('contains_key', <function btree.Node.contains_key(self, key)>),\n",
       " ('get_insert_index', <function btree.Node.get_insert_index(self, key)>),\n",
       " ('get_value', <function btree.Node.get_value(self, key)>),\n",
       " ('insert_child',\n",
       "  <function btree.Node.insert_child(self, insert_index, child)>),\n",
       " ('insert_entry', <function btree.Node.insert_entry(self, key, value)>),\n",
       " ('is_leaf', <function btree.Node.is_leaf(self)>),\n",
       " ('set_children', <function btree.Node.set_children(self, children)>),\n",
       " ('split', <function btree.Node.split(self)>),\n",
       " ('split_no_parent', <function btree.Node.split_no_parent(self)>),\n",
       " ('split_with_parent', <function btree.Node.split_with_parent(self)>)]"
      ]
     },
     "execution_count": 34,
     "metadata": {},
     "output_type": "execute_result"
    }
   ],
   "source": [
    "import inspect\n",
    "from btree import Node as nn\n",
    "\n",
    "inspect.getmembers(nn, predicate=inspect.isfunction)"
   ]
  },
  {
   "cell_type": "code",
   "execution_count": null,
   "metadata": {},
   "outputs": [],
   "source": []
  }
 ],
 "metadata": {
  "kernelspec": {
   "display_name": "Python 3",
   "language": "python",
   "name": "python3"
  },
  "language_info": {
   "codemirror_mode": {
    "name": "ipython",
    "version": 3
   },
   "file_extension": ".py",
   "mimetype": "text/x-python",
   "name": "python",
   "nbconvert_exporter": "python",
   "pygments_lexer": "ipython3",
   "version": "3.8.2"
  }
 },
 "nbformat": 4,
 "nbformat_minor": 1
}
